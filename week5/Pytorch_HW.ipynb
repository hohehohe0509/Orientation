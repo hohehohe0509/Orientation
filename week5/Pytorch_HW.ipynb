{
  "nbformat": 4,
  "nbformat_minor": 0,
  "metadata": {
    "colab": {
      "name": "Pytorch_HW.ipynb",
      "provenance": [],
      "collapsed_sections": []
    },
    "kernelspec": {
      "name": "python3",
      "display_name": "Python 3"
    },
    "language_info": {
      "name": "python"
    }
  },
  "cells": [
    {
      "cell_type": "code",
      "execution_count": 1,
      "metadata": {
        "id": "gcyCjrXPtta9"
      },
      "outputs": [],
      "source": [
        "import numpy as np\n",
        "import pandas as pd\n",
        "\n",
        "import torch\n",
        "import torch.nn as nn\n",
        "from torch.utils.data import Dataset, DataLoader\n",
        "from torch.utils.data.sampler import SubsetRandomSampler"
      ]
    },
    {
      "cell_type": "code",
      "source": [
        "# Device configuration\n",
        "device = torch.device('cuda' if torch.cuda.is_available() else 'cpu')"
      ],
      "metadata": {
        "id": "0jfKBl0Huq1y"
      },
      "execution_count": 5,
      "outputs": []
    },
    {
      "cell_type": "code",
      "source": [
        "# base data inform and network data\n",
        "input_size = 4\n",
        "hidden_size = 24\n",
        "num_classes = 3\n",
        "num_epochs = 10\n",
        "batch_size = 4\n",
        "learning_rate = 0.01"
      ],
      "metadata": {
        "id": "ap4eVcfruE1b"
      },
      "execution_count": 31,
      "outputs": []
    },
    {
      "cell_type": "code",
      "source": [
        "from sklearn import datasets\n",
        "\n",
        "class IrisDataset(Dataset):\n",
        "\n",
        "    # data loading\n",
        "    def __init__(self):\n",
        "        iris = datasets.load_iris()\n",
        "        feature = pd.DataFrame(iris.data, columns=iris.feature_names)\n",
        "        target = pd.DataFrame(iris.target, columns=['target'])\n",
        "        iris_data = pd.concat([target, feature], axis=1)\n",
        "        # Data type change and flatten targets\n",
        "        self.x = torch.from_numpy(np.array(iris_data)[:, 1:].astype(np.float32))\n",
        "        self.y = torch.from_numpy(np.array(iris_data)[:, [0]].astype(np.longlong).flatten())\n",
        "        self.n_samples = self.x.shape[0]\n",
        "\n",
        "    # working for indexing\n",
        "    def __getitem__(self, index):\n",
        "        \n",
        "        return self.x[index], self.y[index]\n",
        "\n",
        "    # return the length of our dataset\n",
        "    def __len__(self):\n",
        "\n",
        "        return self.n_samples\n",
        "\n",
        "\n",
        "dataset = IrisDataset()\n",
        "\n",
        "# create data spliter\n",
        "def dataSplit(dataset, val_split=0.25, shuffle=False, random_seed=0):\n",
        "\n",
        "    dataset_size = len(dataset)\n",
        "    indices = list(range(dataset_size))\n",
        "    split = int(np.floor(val_split * dataset_size))\n",
        "    if shuffle:\n",
        "        np.random.seed(random_seed)\n",
        "        np.random.shuffle(indices)\n",
        "    \n",
        "    train_indices, val_indices = indices[split:], indices[:split]\n",
        "    train_sampler = SubsetRandomSampler(train_indices)\n",
        "    valid_sampler = SubsetRandomSampler(val_indices)\n",
        "\n",
        "    return train_sampler, valid_sampler\n",
        "\n",
        "# base split parameters\n",
        "val_split = 0.25\n",
        "shuffle_dataset = True\n",
        "random_seed= 42\n",
        "\n",
        "train_sampler, valid_sampler = \\\n",
        "    dataSplit(dataset=dataset, val_split=val_split, shuffle=shuffle_dataset, random_seed=random_seed)\n",
        "\n",
        "train_loader = DataLoader(dataset, batch_size=batch_size, sampler=train_sampler)\n",
        "val_loader = DataLoader(dataset, batch_size=batch_size, sampler=valid_sampler)"
      ],
      "metadata": {
        "id": "-AOs257YuItc"
      },
      "execution_count": 26,
      "outputs": []
    },
    {
      "cell_type": "code",
      "source": [
        "#建立 FeedForward\n",
        "\n",
        "# 1) model build\n",
        "class FeedForwardNeuralNet(nn.Module):\n",
        "\n",
        "    def __init__(self, input_size, hidden_size, num_classes):\n",
        "        super(FeedForwardNeuralNet, self).__init__()\n",
        "        # define first layer\n",
        "        self.l1 = nn.Linear(input_size, hidden_size)\n",
        "        # activation function\n",
        "        self.relu = nn.ReLU()\n",
        "        # define second layer\n",
        "        self.l2 = nn.Linear(hidden_size, hidden_size)\n",
        "        # define third layer\n",
        "        self.l3 = nn.Linear(hidden_size, num_classes)\n",
        "\n",
        "    def forward(self, x):\n",
        "        out = self.l1(x)\n",
        "        out = self.relu(out)\n",
        "        out = self.l2(out)\n",
        "        out = self.relu(out)\n",
        "        out = self.l3(out)\n",
        "\n",
        "        return out\n",
        "\n",
        "\n",
        "model = FeedForwardNeuralNet(input_size, hidden_size, num_classes)"
      ],
      "metadata": {
        "id": "e20ws7O2uQ1b"
      },
      "execution_count": 27,
      "outputs": []
    },
    {
      "cell_type": "code",
      "source": [
        "#選擇適合的 loss function 和 optimizer\n",
        "# 2) loss and optimizer\n",
        "# Cross Entropy\n",
        "criterion = nn.CrossEntropyLoss()\n",
        "# adam algorithm\n",
        "optimizer = torch.optim.Adam(model.parameters(), lr=learning_rate)"
      ],
      "metadata": {
        "id": "2hPKQOkauZYB"
      },
      "execution_count": 28,
      "outputs": []
    },
    {
      "cell_type": "code",
      "source": [
        "# 3) Training loop\n",
        "\n",
        "FILE = 'model_all.pt'\n",
        "min_loss = 1\n",
        "\n",
        "n_total_steps = len(train_loader)\n",
        "for epoch in range(num_epochs):\n",
        "    for i, (datas, labels) in enumerate(train_loader):\n",
        "        \n",
        "        datas = datas.to(device)\n",
        "        labels = labels.to(device)\n",
        "\n",
        "        # init optimizer\n",
        "        optimizer.zero_grad()\n",
        "        \n",
        "        # forward -> backward -> update\n",
        "        outputs = model(datas)\n",
        "        loss = criterion(outputs, labels)\n",
        "        \n",
        "        loss.backward()\n",
        "\n",
        "        optimizer.step()\n",
        "\n",
        "        if loss.item() < min_loss:\n",
        "              min_loss = loss.item()\n",
        "              torch.save(model.state_dict(), FILE)\n",
        "\n",
        "        if (i + 1) % 29 == 0:\n",
        "            print(f'epoch {epoch+1}/{num_epochs}, step {i+1}/{n_total_steps}, loss = {loss.item():.4f}')"
      ],
      "metadata": {
        "colab": {
          "base_uri": "https://localhost:8080/"
        },
        "id": "xq-ExbAfub2f",
        "outputId": "ebe7fdcb-4e62-43b2-98db-78cac474f4c6"
      },
      "execution_count": 34,
      "outputs": [
        {
          "output_type": "stream",
          "name": "stdout",
          "text": [
            "epoch 1/10, step 29/29, loss = 0.0154\n",
            "epoch 2/10, step 29/29, loss = 0.0000\n",
            "epoch 3/10, step 29/29, loss = 0.0000\n",
            "epoch 4/10, step 29/29, loss = 0.0024\n",
            "epoch 5/10, step 29/29, loss = 0.0018\n",
            "epoch 6/10, step 29/29, loss = 0.0204\n",
            "epoch 7/10, step 29/29, loss = 0.0013\n",
            "epoch 8/10, step 29/29, loss = 0.0217\n",
            "epoch 9/10, step 29/29, loss = 0.0097\n",
            "epoch 10/10, step 29/29, loss = 0.0147\n"
          ]
        }
      ]
    },
    {
      "cell_type": "code",
      "source": [
        "# 4) Testing\n",
        "\n",
        "model = FeedForwardNeuralNet(input_size, hidden_size, num_classes)\n",
        "model.load_state_dict(torch.load(FILE))\n",
        "model.eval()\n",
        "\n",
        "with torch.no_grad():\n",
        "    n_correct = 0\n",
        "    n_samples = 0\n",
        "    for datas, labels in val_loader:\n",
        "\n",
        "        datas = datas.to(device)\n",
        "        labels = labels.to(device)\n",
        "\n",
        "        outputs = model(datas.float())\n",
        "        _, predictions = torch.max(outputs, 1)\n",
        "        n_samples += labels.shape[0]\n",
        "        n_correct += (predictions == labels).sum().item()\n",
        "\n",
        "    acc = 100.0 * n_correct / n_samples\n",
        "    print(f'accuracy = {acc}')"
      ],
      "metadata": {
        "colab": {
          "base_uri": "https://localhost:8080/"
        },
        "id": "1_r_8iu0ufB9",
        "outputId": "3da32ce4-81b0-44a4-b120-e305672910b9"
      },
      "execution_count": 35,
      "outputs": [
        {
          "output_type": "stream",
          "name": "stdout",
          "text": [
            "accuracy = 97.29729729729729\n"
          ]
        }
      ]
    }
  ]
}