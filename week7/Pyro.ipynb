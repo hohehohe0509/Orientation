{
  "nbformat": 4,
  "nbformat_minor": 0,
  "metadata": {
    "colab": {
      "name": "Pyro.ipynb",
      "provenance": []
    },
    "kernelspec": {
      "name": "python3",
      "display_name": "Python 3"
    },
    "language_info": {
      "name": "python"
    }
  },
  "cells": [
    {
      "cell_type": "code",
      "source": [
        "!pip3 install pyro-ppl "
      ],
      "metadata": {
        "colab": {
          "base_uri": "https://localhost:8080/"
        },
        "id": "4upFf_0mFDdk",
        "outputId": "3f05e45a-7e3e-4995-fe7c-6586b0372e41"
      },
      "execution_count": 1,
      "outputs": [
        {
          "output_type": "stream",
          "name": "stdout",
          "text": [
            "Looking in indexes: https://pypi.org/simple, https://us-python.pkg.dev/colab-wheels/public/simple/\n",
            "Collecting pyro-ppl\n",
            "  Downloading pyro_ppl-1.8.1-py3-none-any.whl (718 kB)\n",
            "\u001b[K     |████████████████████████████████| 718 kB 5.4 MB/s \n",
            "\u001b[?25hRequirement already satisfied: torch>=1.11.0 in /usr/local/lib/python3.7/dist-packages (from pyro-ppl) (1.12.1+cu113)\n",
            "Requirement already satisfied: numpy>=1.7 in /usr/local/lib/python3.7/dist-packages (from pyro-ppl) (1.21.6)\n",
            "Requirement already satisfied: opt-einsum>=2.3.2 in /usr/local/lib/python3.7/dist-packages (from pyro-ppl) (3.3.0)\n",
            "Collecting pyro-api>=0.1.1\n",
            "  Downloading pyro_api-0.1.2-py3-none-any.whl (11 kB)\n",
            "Requirement already satisfied: tqdm>=4.36 in /usr/local/lib/python3.7/dist-packages (from pyro-ppl) (4.64.0)\n",
            "Requirement already satisfied: typing-extensions in /usr/local/lib/python3.7/dist-packages (from torch>=1.11.0->pyro-ppl) (4.1.1)\n",
            "Installing collected packages: pyro-api, pyro-ppl\n",
            "Successfully installed pyro-api-0.1.2 pyro-ppl-1.8.1\n"
          ]
        }
      ]
    },
    {
      "cell_type": "code",
      "source": [
        "import os, torch, pyro\n",
        "import numpy as np\n",
        "import pandas as pd\n",
        "import seaborn as sns\n",
        "import matplotlib.pyplot as plt\n",
        "import pyro.distributions as dist\n",
        "from torch import nn\n",
        "from functools import partial\n",
        "from pyro.nn import PyroModule, PyroSample\n",
        "from pyro.infer import SVI, Trace_ELBO\n",
        "from pyro.infer.autoguide import AutoDiagonalNormal"
      ],
      "metadata": {
        "id": "LBkYS9HkGf6e"
      },
      "execution_count": 2,
      "outputs": []
    },
    {
      "cell_type": "code",
      "source": [
        "pyro.set_rng_seed(1)\n",
        "pyro.enable_validation(True)\n",
        "%matplotlib inline\n",
        "plt.style.use('default')\n",
        "\n",
        "def get_data():\n",
        "    DATA_URL = \"https://d2hg8soec8ck9v.cloudfront.net/datasets/rugged_data.csv\"\n",
        "    data = pd.read_csv(DATA_URL, encoding=\"ISO-8859-1\")\n",
        "    df = data[[\"cont_africa\", \"rugged\", \"rgdppc_2000\"]]\n",
        "    df = df[np.isfinite(df.rgdppc_2000)]\n",
        "    df[\"rgdppc_2000\"] = np.log(df[\"rgdppc_2000\"])\n",
        "    df[\"cont_africa_x_rugged\"] = df[\"cont_africa\"] * df[\"rugged\"]\n",
        "    data = torch.tensor(df[[\"cont_africa\", \"rugged\", \"cont_africa_x_rugged\", \"rgdppc_2000\"]].values,\n",
        "                            dtype=torch.float)\n",
        "    x_data, y_data = data[:, :-1], data[:, -1]\n",
        "    return x_data, y_data\n",
        "\n",
        "x_data, y_data = get_data()\n",
        "\n",
        "num_iterations =1000\n",
        "\n",
        "class BayesianRegression(PyroModule):\n",
        "    def __init__(self, in_features, out_features):\n",
        "        super().__init__()\n",
        "        self.linear = PyroModule[nn.Linear](in_features, out_features)\n",
        "        self.linear.weight = PyroSample(dist.Normal(0., 1.).expand([out_features, in_features]).to_event(2))\n",
        "        self.linear.bias = PyroSample(dist.Normal(0., 10.).expand([out_features]).to_event(1))\n",
        "\n",
        "    def forward(self, x, y=None):\n",
        "        sigma = pyro.sample(\"sigma\", dist.Uniform(0., 10.))\n",
        "        mean = self.linear(x).squeeze(-1)\n",
        "        with pyro.plate(\"data\", x.shape[0]):\n",
        "            obs = pyro.sample(\"obs\", dist.Normal(mean, sigma), obs=y)\n",
        "        return mean\n",
        "\n",
        "model = BayesianRegression(3, 1)\n",
        "guide = AutoDiagonalNormal(model)\n",
        "adam = pyro.optim.Adam({\"lr\": 0.03})\n",
        "svi = SVI(model, guide, adam, loss=Trace_ELBO())\n",
        "\n",
        "pyro.clear_param_store()\n",
        "for j in range(num_iterations):\n",
        "    loss = svi.step(x_data, y_data)\n",
        "    if j % 200 == 0:\n",
        "        print(\"[iteration %04d] loss: %.4f\" % (j + 1, loss / len(x_data)))\n",
        "\n",
        "guide.requires_grad_(False)\n",
        "\n",
        "for name, value in pyro.get_param_store().items():\n",
        "    print(name, pyro.param(name))"
      ],
      "metadata": {
        "colab": {
          "base_uri": "https://localhost:8080/"
        },
        "id": "wdYskEXo4ss_",
        "outputId": "e41a7de5-408a-4521-e707-ba38bbdb3024"
      },
      "execution_count": 10,
      "outputs": [
        {
          "output_type": "stream",
          "name": "stdout",
          "text": [
            "AutoDiagonalNormal()\n",
            "[iteration 0001] loss: 4.6074\n",
            "[iteration 0201] loss: 2.5523\n",
            "[iteration 0401] loss: 1.4601\n",
            "[iteration 0601] loss: 1.4726\n",
            "[iteration 0801] loss: 1.4677\n",
            "AutoDiagonalNormal.loc Parameter containing:\n",
            "tensor([-2.2916, -1.8635, -0.1926,  0.3306,  9.1682])\n",
            "AutoDiagonalNormal.scale tensor([0.0559, 0.1429, 0.0459, 0.0846, 0.0633])\n"
          ]
        }
      ]
    },
    {
      "cell_type": "code",
      "execution_count": 16,
      "metadata": {
        "colab": {
          "base_uri": "https://localhost:8080/"
        },
        "id": "-wechjFJEihQ",
        "outputId": "a9627533-3cf1-4fd3-e32b-8c38419664dc"
      },
      "outputs": [
        {
          "output_type": "stream",
          "name": "stdout",
          "text": [
            "[iteration 0001] loss: 0.0684\n",
            "[iteration 0021] loss: 0.0566\n",
            "[iteration 0041] loss: 0.0426\n",
            "[iteration 0061] loss: 0.0275\n",
            "[iteration 0081] loss: 0.0291\n",
            "AutoDiagonalNormal.loc Parameter containing:\n",
            "tensor([0.1420, 0.1224])\n",
            "AutoDiagonalNormal.scale tensor([0.8826, 1.0108])\n"
          ]
        }
      ],
      "source": [
        "def data_generate():\n",
        "  rand = torch.randn(100)\n",
        "  x = rand\n",
        "  y = rand * 4 + 2.\n",
        "  return x, y\n",
        "\n",
        "class RegressionModel(nn.Module):\n",
        "  def __init__(self, p):\n",
        "    super(RegressionModel, self).__init__()\n",
        "    self.linear = PyroModule[nn.Linear](1, 1)\n",
        "    self.linear.weight = PyroSample(dist.Normal(0., 1.).expand([1, 1]).to_event(2))\n",
        "    self.linear.bias = PyroSample(dist.Normal(0., 10.).expand([1]).to_event(1))\n",
        "  \n",
        "  def forward(self, x, y=None):\n",
        "    return self.linear(x)\n",
        "\n",
        "x_data, y_data = data_generate()\n",
        "x_data = x_data.reshape(100,1)\n",
        "y_data = y_data.reshape(100,1)\n",
        "\n",
        "num_iterations = 100\n",
        "p = 1\n",
        "\n",
        "model = RegressionModel(1)\n",
        "guide = AutoDiagonalNormal(model)\n",
        "adam = pyro.optim.Adam({\"lr\": 0.03})\n",
        "svi = SVI(model, guide, adam, loss=Trace_ELBO())\n",
        "\n",
        "pyro.clear_param_store()\n",
        "for j in range(num_iterations):\n",
        "    loss = svi.step(x_data, y_data)\n",
        "    if j % 20 == 0:\n",
        "        print(\"[iteration %04d] loss: %.4f\" % (j + 1, loss / len(x_data)))\n",
        "\n",
        "guide.requires_grad_(False)\n",
        "\n",
        "for name, value in pyro.get_param_store().items():\n",
        "    print(name, pyro.param(name))\n"
      ]
    },
    {
      "cell_type": "code",
      "source": [
        "from collections import defaultdict\n",
        "from pyro import poutine\n",
        "from pyro.poutine.util import prune_subsample_sites\n",
        "import warnings\n",
        "\n",
        "\n",
        "class Predict(torch.nn.Module):\n",
        "    def __init__(self, model, guide):\n",
        "        super().__init__()\n",
        "        self.model = model\n",
        "        self.guide = guide\n",
        "\n",
        "    def forward(self, *args, **kwargs):\n",
        "        samples = {}\n",
        "        guide_trace = poutine.trace(self.guide).get_trace(*args, **kwargs)\n",
        "        model_trace = poutine.trace(poutine.replay(self.model, guide_trace)).get_trace(*args, **kwargs)\n",
        "        for site in prune_subsample_sites(model_trace).stochastic_nodes:\n",
        "            samples[site] = model_trace.nodes[site]['value']\n",
        "        return tuple(v for _, v in sorted(samples.items()))\n",
        "\n",
        "predict_fn = Predict(model, guide)\n",
        "predict_module = torch.jit.trace_module(predict_fn, {\"forward\": (x_data,)}, check_trace=False)"
      ],
      "metadata": {
        "id": "cMAvbOJ-iMzO"
      },
      "execution_count": 17,
      "outputs": []
    },
    {
      "cell_type": "code",
      "source": [
        "from pyro.infer import Predictive\n",
        "\n",
        "predictive = Predictive(model, guide=guide, num_samples=80,\n",
        "                        return_sites=(\"linear.weight\", \"obs\", \"_RETURN\"))\n",
        "samples = predictive(x_data)"
      ],
      "metadata": {
        "id": "BV9xRfdpityc"
      },
      "execution_count": 21,
      "outputs": []
    }
  ]
}