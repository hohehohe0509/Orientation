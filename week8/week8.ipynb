{
  "nbformat": 4,
  "nbformat_minor": 0,
  "metadata": {
    "colab": {
      "name": "week8.ipynb",
      "provenance": []
    },
    "kernelspec": {
      "name": "python3",
      "display_name": "Python 3"
    },
    "language_info": {
      "name": "python"
    }
  },
  "cells": [
    {
      "cell_type": "code",
      "execution_count": 1,
      "metadata": {
        "colab": {
          "base_uri": "https://localhost:8080/"
        },
        "id": "B49gq8FrogCd",
        "outputId": "af78ee9e-f587-428e-db5f-aefce0c8406a"
      },
      "outputs": [
        {
          "output_type": "stream",
          "name": "stdout",
          "text": [
            "Looking in indexes: https://pypi.org/simple, https://us-python.pkg.dev/colab-wheels/public/simple/\n",
            "Collecting bayesian-optimization\n",
            "  Downloading bayesian-optimization-1.2.0.tar.gz (14 kB)\n",
            "Requirement already satisfied: numpy>=1.9.0 in /usr/local/lib/python3.7/dist-packages (from bayesian-optimization) (1.21.6)\n",
            "Requirement already satisfied: scipy>=0.14.0 in /usr/local/lib/python3.7/dist-packages (from bayesian-optimization) (1.7.3)\n",
            "Requirement already satisfied: scikit-learn>=0.18.0 in /usr/local/lib/python3.7/dist-packages (from bayesian-optimization) (1.0.2)\n",
            "Requirement already satisfied: joblib>=0.11 in /usr/local/lib/python3.7/dist-packages (from scikit-learn>=0.18.0->bayesian-optimization) (1.1.0)\n",
            "Requirement already satisfied: threadpoolctl>=2.0.0 in /usr/local/lib/python3.7/dist-packages (from scikit-learn>=0.18.0->bayesian-optimization) (3.1.0)\n",
            "Building wheels for collected packages: bayesian-optimization\n",
            "  Building wheel for bayesian-optimization (setup.py) ... \u001b[?25l\u001b[?25hdone\n",
            "  Created wheel for bayesian-optimization: filename=bayesian_optimization-1.2.0-py3-none-any.whl size=11685 sha256=a8b403dbf6476e2a27d85c27b195bf25b4b3c2aacc2f199a590f8206f817ee11\n",
            "  Stored in directory: /root/.cache/pip/wheels/fd/9b/71/f127d694e02eb40bcf18c7ae9613b88a6be4470f57a8528c5b\n",
            "Successfully built bayesian-optimization\n",
            "Installing collected packages: bayesian-optimization\n",
            "Successfully installed bayesian-optimization-1.2.0\n"
          ]
        }
      ],
      "source": [
        "pip install bayesian-optimization"
      ]
    },
    {
      "cell_type": "code",
      "source": [
        "from bayes_opt import BayesianOptimization\n",
        "from sklearn import datasets, svm, metrics\n",
        "from sklearn.preprocessing import StandardScaler\n",
        "from sklearn.model_selection import train_test_split\n",
        "import matplotlib.pyplot as plt\n",
        "import pandas as pd\n",
        "import matplotlib.cm as cm\n",
        "import numpy as np \n",
        "from sklearn.datasets import load_iris\n",
        "\n",
        "iris = load_iris()\n",
        "iris_data = iris.data\n",
        "iris_label = iris.target"
      ],
      "metadata": {
        "id": "rHUqwpMxojJY"
      },
      "execution_count": 2,
      "outputs": []
    },
    {
      "cell_type": "code",
      "source": [
        "train_data, test_data, train_label, test_label = train_test_split(iris.data, iris.target, test_size=0.2, shuffle=True)\n",
        "\n",
        "def black_box_function( c, g ):\n",
        "  classifier = svm.SVC(C=c,gamma=g)\n",
        "  classifier.fit(train_data, train_label)\n",
        "  accuracy = classifier.score(test_data, test_label)\n",
        "\n",
        "  return accuracy\n",
        "\n",
        "\n",
        "\n",
        "pbounds = { \"c\":[ 1, 10 ] ,\"g\": [ 1, 10 ] }\n",
        "\n",
        "optimizer = BayesianOptimization( f = black_box_function, \n",
        "                  pbounds = pbounds, \n",
        "                  random_state = 1 )\n",
        "\n",
        "optimizer.maximize( init_points = 2, n_iter = 10 )\n",
        "\n",
        "print( optimizer.max )"
      ],
      "metadata": {
        "colab": {
          "base_uri": "https://localhost:8080/"
        },
        "id": "Z7q28d9rpFz-",
        "outputId": "aebde879-632f-4d86-ac75-787e0608b1ed"
      },
      "execution_count": 15,
      "outputs": [
        {
          "output_type": "stream",
          "name": "stdout",
          "text": [
            "|   iter    |  target   |     c     |     g     |\n",
            "-------------------------------------------------\n",
            "| \u001b[0m 1       \u001b[0m | \u001b[0m 0.9667  \u001b[0m | \u001b[0m 4.753   \u001b[0m | \u001b[0m 7.483   \u001b[0m |\n",
            "| \u001b[0m 2       \u001b[0m | \u001b[0m 0.9333  \u001b[0m | \u001b[0m 1.001   \u001b[0m | \u001b[0m 3.721   \u001b[0m |\n",
            "| \u001b[0m 3       \u001b[0m | \u001b[0m 0.9667  \u001b[0m | \u001b[0m 4.861   \u001b[0m | \u001b[0m 7.644   \u001b[0m |\n",
            "| \u001b[0m 4       \u001b[0m | \u001b[0m 0.9333  \u001b[0m | \u001b[0m 9.127   \u001b[0m | \u001b[0m 5.398   \u001b[0m |\n",
            "| \u001b[0m 5       \u001b[0m | \u001b[0m 0.9667  \u001b[0m | \u001b[0m 2.544   \u001b[0m | \u001b[0m 9.898   \u001b[0m |\n",
            "| \u001b[0m 6       \u001b[0m | \u001b[0m 0.9667  \u001b[0m | \u001b[0m 8.17    \u001b[0m | \u001b[0m 10.0    \u001b[0m |\n",
            "| \u001b[0m 7       \u001b[0m | \u001b[0m 0.9667  \u001b[0m | \u001b[0m 5.344   \u001b[0m | \u001b[0m 10.0    \u001b[0m |\n",
            "| \u001b[0m 8       \u001b[0m | \u001b[0m 0.9333  \u001b[0m | \u001b[0m 6.133   \u001b[0m | \u001b[0m 1.0     \u001b[0m |\n",
            "| \u001b[0m 9       \u001b[0m | \u001b[0m 0.9667  \u001b[0m | \u001b[0m 1.0     \u001b[0m | \u001b[0m 8.2     \u001b[0m |\n",
            "| \u001b[0m 10      \u001b[0m | \u001b[0m 0.9667  \u001b[0m | \u001b[0m 10.0    \u001b[0m | \u001b[0m 10.0    \u001b[0m |\n",
            "| \u001b[0m 11      \u001b[0m | \u001b[0m 0.9667  \u001b[0m | \u001b[0m 3.027   \u001b[0m | \u001b[0m 8.105   \u001b[0m |\n",
            "| \u001b[0m 12      \u001b[0m | \u001b[0m 0.9667  \u001b[0m | \u001b[0m 1.011   \u001b[0m | \u001b[0m 9.889   \u001b[0m |\n",
            "=================================================\n",
            "{'target': 0.9666666666666667, 'params': {'c': 4.753198042323167, 'g': 7.482920440979423}}\n"
          ]
        }
      ]
    }
  ]
}