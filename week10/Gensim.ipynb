{
  "nbformat": 4,
  "nbformat_minor": 0,
  "metadata": {
    "colab": {
      "provenance": []
    },
    "kernelspec": {
      "name": "python3",
      "display_name": "Python 3"
    },
    "language_info": {
      "name": "python"
    }
  },
  "cells": [
    {
      "cell_type": "code",
      "execution_count": 1,
      "metadata": {
        "id": "jkqc-56ekyjv"
      },
      "outputs": [],
      "source": [
        "corpus = []\n",
        "\n",
        "f = open(\"data.txt\", mode='r')\n",
        "for line in f.readlines():\n",
        "  if line != '\\n':\n",
        "    line = line.split('\\n')[0]\n",
        "    corpus.append(line)\n",
        "\n",
        "stoplist = set('for a of the end to in'.split(' '))\n",
        "texts = [[word for word in document.lower().split() if word not in stoplist]for document in corpus]"
      ]
    },
    {
      "cell_type": "code",
      "source": [
        "from collections import defaultdict\n",
        "frequency = defaultdict(int)\n",
        "for text in texts:\n",
        "  for token in text:\n",
        "    frequency[token] += 1\n",
        "\n",
        "processed_corpus = [[token for token in text if frequency[token] > 1] for text in texts]"
      ],
      "metadata": {
        "id": "RWqenpUzxEoc"
      },
      "execution_count": 2,
      "outputs": []
    },
    {
      "cell_type": "code",
      "source": [
        "from gensim import corpora\n",
        "\n",
        "dictionary = corpora.Dictionary(processed_corpus)\n",
        "print(dictionary)"
      ],
      "metadata": {
        "colab": {
          "base_uri": "https://localhost:8080/"
        },
        "id": "rEr9AbRPwxCp",
        "outputId": "53b6a4c7-3553-45b8-956b-9c12f24c36bf"
      },
      "execution_count": 3,
      "outputs": [
        {
          "output_type": "stream",
          "name": "stdout",
          "text": [
            "Dictionary(78 unique tokens: ['$1', '2030', 'and', 'by', 'climate']...)\n"
          ]
        }
      ]
    },
    {
      "cell_type": "code",
      "source": [
        "dictionary.token2id"
      ],
      "metadata": {
        "colab": {
          "base_uri": "https://localhost:8080/"
        },
        "id": "rlakM91Kxzvf",
        "outputId": "85524641-fac4-4dad-d8b2-f81db29b8d47"
      },
      "execution_count": 4,
      "outputs": [
        {
          "output_type": "execute_result",
          "data": {
            "text/plain": [
              "{'$1': 0,\n",
              " '2030': 1,\n",
              " 'and': 2,\n",
              " 'by': 3,\n",
              " 'climate': 4,\n",
              " 'include': 5,\n",
              " 'mitigate': 6,\n",
              " 'morgan': 7,\n",
              " 'solutions': 8,\n",
              " 'stanley': 9,\n",
              " 'sustainable': 10,\n",
              " 'that': 11,\n",
              " 'trillion': 12,\n",
              " 'also': 13,\n",
              " 'change': 14,\n",
              " 'future': 15,\n",
              " 'global': 16,\n",
              " 'have': 17,\n",
              " 'health': 18,\n",
              " 'our': 19,\n",
              " 'social': 20,\n",
              " 'sustainability': 21,\n",
              " 'at': 22,\n",
              " 'billion': 23,\n",
              " 'commitment': 24,\n",
              " 'development': 25,\n",
              " 'environmental,': 26,\n",
              " 'firm': 27,\n",
              " 'goal': 28,\n",
              " 'has': 29,\n",
              " 'is': 30,\n",
              " 'leader': 31,\n",
              " 'low-carbon': 32,\n",
              " 'more': 33,\n",
              " 'practices': 34,\n",
              " 'set': 35,\n",
              " 'support': 36,\n",
              " 'tripling': 37,\n",
              " 'united': 38,\n",
              " '2050,': 39,\n",
              " 'accelerate': 40,\n",
              " 'achieve': 41,\n",
              " 'amount': 42,\n",
              " 'banks': 43,\n",
              " 'carbon': 44,\n",
              " 'from': 45,\n",
              " 'joined': 46,\n",
              " 'net-zero': 47,\n",
              " 'offset': 48,\n",
              " 'on': 49,\n",
              " 'which': 50,\n",
              " 'with': 51,\n",
              " 'world’s': 52,\n",
              " 'as': 53,\n",
              " 'ceo': 54,\n",
              " 'efforts': 55,\n",
              " 'finance': 56,\n",
              " 'finance,': 57,\n",
              " 'governments': 58,\n",
              " 'individuals': 59,\n",
              " 'institute': 60,\n",
              " 'it': 61,\n",
              " 'securing': 62,\n",
              " 'stanley’s': 63,\n",
              " 'energy': 64,\n",
              " 'first': 65,\n",
              " 'green': 66,\n",
              " 'other': 67,\n",
              " 'renewable': 68,\n",
              " 'we': 69,\n",
              " 'commitments': 70,\n",
              " 'firm’s': 71,\n",
              " 'its': 72,\n",
              " 'last': 73,\n",
              " 'year,': 74,\n",
              " 'power': 75,\n",
              " 'bond': 76,\n",
              " 'esg': 77}"
            ]
          },
          "metadata": {},
          "execution_count": 4
        }
      ]
    },
    {
      "cell_type": "code",
      "source": [
        "bow_corpus = [dictionary.doc2bow(text) for text in processed_corpus]\n",
        "print(bow_corpus)"
      ],
      "metadata": {
        "colab": {
          "base_uri": "https://localhost:8080/"
        },
        "id": "gr_owMFuyLVa",
        "outputId": "29eb3407-1822-44fe-9346-44de8d1e86aa"
      },
      "execution_count": 5,
      "outputs": [
        {
          "output_type": "stream",
          "name": "stdout",
          "text": [
            "[[(0, 1), (1, 1), (2, 1), (3, 1), (4, 1), (5, 1), (6, 1), (7, 1), (8, 1), (9, 1), (10, 1), (11, 1), (12, 1)], [(2, 5), (4, 1), (13, 1), (14, 1), (15, 1), (16, 1), (17, 1), (18, 1), (19, 2), (20, 1), (21, 1)], [(0, 1), (1, 1), (2, 2), (3, 1), (7, 1), (8, 1), (9, 1), (10, 2), (11, 2), (12, 1), (16, 1), (19, 1), (20, 1), (22, 1), (23, 1), (24, 1), (25, 1), (26, 1), (27, 1), (28, 1), (29, 2), (30, 1), (31, 1), (32, 1), (33, 1), (34, 1), (35, 1), (36, 1), (37, 1), (38, 1)], [(1, 1), (2, 3), (3, 1), (7, 1), (9, 1), (13, 1), (30, 1), (38, 1), (39, 1), (40, 1), (41, 1), (42, 2), (43, 2), (44, 1), (45, 1), (46, 1), (47, 1), (48, 1), (49, 1), (50, 2), (51, 1), (52, 1)], [(2, 6), (7, 1), (10, 4), (11, 1), (15, 1), (18, 1), (19, 4), (20, 1), (21, 1), (24, 1), (25, 1), (26, 1), (30, 3), (31, 1), (32, 1), (33, 2), (36, 1), (37, 1), (40, 1), (41, 1), (53, 1), (54, 1), (55, 2), (56, 1), (57, 1), (58, 1), (59, 1), (60, 1), (61, 2), (62, 1), (63, 1)], [(0, 1), (2, 3), (12, 1), (17, 1), (19, 2), (23, 1), (32, 1), (51, 1), (57, 1), (58, 1), (59, 1), (64, 1), (65, 1), (66, 1), (67, 1), (68, 1), (69, 2)], [(4, 1), (7, 1), (14, 1), (63, 1), (70, 1)], [(2, 2), (3, 1), (4, 1), (7, 1), (9, 1), (13, 1), (19, 1), (39, 1), (41, 1), (44, 1), (46, 1), (47, 1), (49, 1), (51, 1), (55, 1), (65, 1), (71, 1), (72, 1), (73, 1), (74, 1)], [(2, 3), (3, 1), (4, 1), (5, 1), (7, 1), (11, 1), (16, 2), (27, 1), (28, 1), (30, 1), (35, 1), (41, 1), (44, 2), (45, 1), (48, 1), (62, 1), (63, 1), (64, 1), (67, 1), (68, 2), (70, 1), (75, 2)], [(0, 1), (2, 1), (7, 1), (9, 1), (13, 1), (19, 1), (20, 1), (21, 1), (22, 1), (23, 1), (27, 1), (29, 1), (36, 1), (66, 1), (67, 1), (72, 1), (73, 1), (74, 1), (76, 3), (77, 1)], [(2, 3), (3, 1), (4, 1), (6, 1), (7, 1), (9, 1), (10, 3), (11, 1), (14, 1), (16, 1), (21, 1), (24, 2), (34, 1), (52, 1), (53, 1), (54, 1), (56, 2), (60, 1), (61, 1), (71, 1), (72, 1), (77, 1)]]\n"
          ]
        }
      ]
    },
    {
      "cell_type": "code",
      "source": [
        "from gensim import models\n",
        "from gensim import similarities\n",
        "\n",
        "tfidf = models.TfidfModel(bow_corpus)"
      ],
      "metadata": {
        "id": "QJodN_LWye6n"
      },
      "execution_count": 9,
      "outputs": []
    },
    {
      "cell_type": "code",
      "source": [
        "index = similarities.SparseMatrixSimilarity(tfidf[bow_corpus],num_features=78)\n",
        "query_document = 'climate change'.split()\n",
        "query_bow = dictionary.doc2bow(query_document)\n",
        "sims = index[tfidf[query_bow]]\n",
        "print(list(enumerate(sims)))"
      ],
      "metadata": {
        "colab": {
          "base_uri": "https://localhost:8080/"
        },
        "id": "6UgM9LbF0KL2",
        "outputId": "6d57995d-55ce-4f14-957c-7bb16bc0ed7a"
      },
      "execution_count": 12,
      "outputs": [
        {
          "output_type": "stream",
          "name": "stdout",
          "text": [
            "[(0, 0.064236), (1, 0.35227263), (2, 0.0), (3, 0.0), (4, 0.0), (5, 0.0), (6, 0.55430156), (7, 0.043431804), (8, 0.029144866), (9, 0.0), (10, 0.18355091)]\n"
          ]
        }
      ]
    }
  ]
}